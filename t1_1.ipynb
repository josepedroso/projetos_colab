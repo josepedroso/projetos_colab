{
  "nbformat": 4,
  "nbformat_minor": 0,
  "metadata": {
    "colab": {
      "provenance": [],
      "mount_file_id": "1vfvv9-d8umZhZbD5wIWmr1Pxs47-3DsC",
      "authorship_tag": "ABX9TyNMvFZUvzxOytw3pvYo7aV9",
      "include_colab_link": true
    },
    "kernelspec": {
      "name": "python3",
      "display_name": "Python 3"
    },
    "language_info": {
      "name": "python"
    }
  },
  "cells": [
    {
      "cell_type": "markdown",
      "metadata": {
        "id": "view-in-github",
        "colab_type": "text"
      },
      "source": [
        "<a href=\"https://colab.research.google.com/github/josepedroso/projetos_colab/blob/main/t1_1.ipynb\" target=\"_parent\"><img src=\"https://colab.research.google.com/assets/colab-badge.svg\" alt=\"Open In Colab\"/></a>"
      ]
    },
    {
      "cell_type": "code",
      "execution_count": null,
      "metadata": {
        "id": "k6LVqDxkxeYo"
      },
      "outputs": [],
      "source": [
        "import numpy as np\n",
        "from skimage.feature import hog\n",
        "from skimage import exposure\n",
        "import cv2\n",
        "import os\n",
        "from sklearn.model_selection import train_test_split\n",
        "from sklearn.neighbors import KNeighborsClassifier\n",
        "from sklearn.metrics import accuracy_score, confusion_matrix, classification_report\n"
      ]
    },
    {
      "cell_type": "code",
      "source": [
        "def cria_dados():\n",
        "  x_data = []\n",
        "  y_data = []\n",
        "  arquivo = '/digits/files.txt'\n",
        "\n",
        "  with open(arquivo, 'r') as f:\n",
        "        linhas = f.readlines()\n",
        "        for num_linha, linha in enumerate(linhas, 0):\n",
        "                parts = linha.split(\" \")\n",
        "                x_data.append(parts[0])\n",
        "                y_data.append(parts[1].replace(\"\\n\", \"\"))\n",
        "  return x_data, y_data"
      ],
      "metadata": {
        "id": "seXTqUcpQyUp"
      },
      "execution_count": null,
      "outputs": []
    },
    {
      "cell_type": "code",
      "source": [
        "def extracted_fetures(name_img):\n",
        "  img = cv2.imread(name_img, cv2.IMREAD_GRAYSCALE)\n",
        "  img_resize = cv2.resize(img, (40, 40))\n",
        "  # Aplicar o threshold binário\n",
        "  # threshold_value = 128  # Valor de limite (pode ser ajustado)\n",
        "  #_, binary_image = cv2.threshold(img_resize, threshold_value, 255, cv2.THRESH_BINARY)\n",
        "\n",
        "  feature_vector, hog_image = hog(img_resize, orientations=8, pixels_per_cell=(16, 16),\n",
        "                                cells_per_block=(1, 1), visualize=True, block_norm='L2-Hys')\n",
        "\n",
        "  return    feature_vector"
      ],
      "metadata": {
        "id": "ydvWN3WcnBiS"
      },
      "execution_count": null,
      "outputs": []
    },
    {
      "cell_type": "code",
      "source": [
        "path_images = '/content/drive/MyDrive/digits/'\n",
        "\n",
        "x_dataset_paths, y_dataset = cria_dados()\n",
        "x_dataset = []\n",
        "\n",
        "for index, img_name in enumerate(x_dataset_paths, 0):\n",
        "  feature_vector = extracted_fetures(path_images + img_name)\n",
        "  x_dataset.append(feature_vector)\n",
        "\n",
        "\n",
        "X_train, X_test, y_train, y_test = train_test_split(x_dataset, y_dataset, test_size=0.3, random_state=42)"
      ],
      "metadata": {
        "id": "2pvG0vFl6MCw"
      },
      "execution_count": null,
      "outputs": []
    },
    {
      "cell_type": "code",
      "source": [
        "# Train kNN\n",
        "classifier = KNeighborsClassifier(n_neighbors=10)\n",
        "classifier.fit(X_train, y_train)\n",
        "\n",
        "# Make predictions\n",
        "y_pred = classifier.predict(X_test)\n",
        "\n",
        "# Compute metrics\n",
        "acuracia = accuracy_score(y_test, y_pred)\n",
        "matriz_confusao = confusion_matrix(y_test, y_pred)\n",
        "report = classification_report(y_test, y_pred, output_dict=True)\n",
        "\n",
        "# Call the function and print results\n",
        "print(\"Acurácia:\", acuracia)\n",
        "print(\"Matriz de Confusão:\", matriz_confusao)\n",
        "print(\"Relatório de Classificação:\", report)"
      ],
      "metadata": {
        "colab": {
          "base_uri": "https://localhost:8080/"
        },
        "id": "s3aN5rQUbfeZ",
        "outputId": "8d7da099-84b0-4479-881b-9ef32d2021f9"
      },
      "execution_count": null,
      "outputs": [
        {
          "output_type": "stream",
          "name": "stdout",
          "text": [
            "Acurácia: 0.8066666666666666\n",
            "Matriz de Confusão: [[46  0  2  0  0  0  2  0  1  1]\n",
            " [ 5 57  5  1  0  0  0  0  1  0]\n",
            " [ 0  2 52  5  5  0  1  3  3  1]\n",
            " [ 1  0  2 36  0  6  0  0  9  1]\n",
            " [ 0  1  1  1 45  0  0  0  2  4]\n",
            " [ 2  1  0  4  1 37  1  0  3  0]\n",
            " [ 8  1  0  1  2  0 45  0  0  0]\n",
            " [ 2  0  0  0  0  0  0 55  1  4]\n",
            " [ 2  2  0  4  1  2  1  0 52  0]\n",
            " [ 3  0  0  2  0  0  0  2  0 59]]\n",
            "Relatório de Classificação: {'0': {'precision': 0.6666666666666666, 'recall': 0.8846153846153846, 'f1-score': 0.7603305785123966, 'support': 52}, '1': {'precision': 0.890625, 'recall': 0.8260869565217391, 'f1-score': 0.8571428571428571, 'support': 69}, '2': {'precision': 0.8387096774193549, 'recall': 0.7222222222222222, 'f1-score': 0.7761194029850746, 'support': 72}, '3': {'precision': 0.6666666666666666, 'recall': 0.6545454545454545, 'f1-score': 0.6605504587155963, 'support': 55}, '4': {'precision': 0.8333333333333334, 'recall': 0.8333333333333334, 'f1-score': 0.8333333333333334, 'support': 54}, '5': {'precision': 0.8222222222222222, 'recall': 0.7551020408163265, 'f1-score': 0.7872340425531914, 'support': 49}, '6': {'precision': 0.9, 'recall': 0.7894736842105263, 'f1-score': 0.8411214953271027, 'support': 57}, '7': {'precision': 0.9166666666666666, 'recall': 0.8870967741935484, 'f1-score': 0.9016393442622951, 'support': 62}, '8': {'precision': 0.7222222222222222, 'recall': 0.8125, 'f1-score': 0.7647058823529411, 'support': 64}, '9': {'precision': 0.8428571428571429, 'recall': 0.8939393939393939, 'f1-score': 0.8676470588235294, 'support': 66}, 'accuracy': 0.8066666666666666, 'macro avg': {'precision': 0.8099969598054276, 'recall': 0.8058915244397928, 'f1-score': 0.8049824454008319, 'support': 600}, 'weighted avg': {'precision': 0.8140776183009046, 'recall': 0.8066666666666666, 'f1-score': 0.8075280574762327, 'support': 600}}\n"
          ]
        }
      ]
    },
    {
      "cell_type": "code",
      "source": [
        "#cria arquivo com as features\n",
        "path_images = '/digits/'\n",
        "out_file_name = \"allFeatures.txt\"\n",
        "output_file = open(out_file_name, 'w')\n",
        "\n",
        "x_dataset, y_dataset = cria_dados()\n",
        "\n",
        "for index, img_name in enumerate(x_dataset, 0):\n",
        "\n",
        "  normalized_feature_vector = extracted_fetures(path_images + img_name)\n",
        "\n",
        "  for value in normalized_feature_vector:\n",
        "        output_file.write(f'{value}  ')\n",
        "\n",
        "  output_file.write(f'{y_dataset[index]}')\n",
        "  output_file.write(f'\\n')"
      ],
      "metadata": {
        "id": "9INunWJIQyvC"
      },
      "execution_count": null,
      "outputs": []
    }
  ]
}